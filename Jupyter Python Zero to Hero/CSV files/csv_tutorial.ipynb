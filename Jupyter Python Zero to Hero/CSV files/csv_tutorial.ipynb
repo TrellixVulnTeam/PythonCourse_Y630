{
 "cells": [
  {
   "cell_type": "code",
   "execution_count": 6,
   "id": "1f1b5db5",
   "metadata": {},
   "outputs": [
    {
     "name": "stdout",
     "output_type": "stream",
     "text": [
      "['id', 'first_name', 'last_name', 'email', 'gender', 'ip_address', 'city']\n",
      "hgasquoine9@google.ru\n"
     ]
    }
   ],
   "source": [
    "import csv\n",
    "data = open('example.csv', encoding='utf-8')\n",
    "csv_data = csv.reader(data)\n",
    "data_lines = list(csv_data)\n",
    "print(data_lines[0])\n",
    "print(data_lines[10][3])\n",
    "data.close()\n",
    "\n",
    "full_names = []\n",
    "for line in data_lines[1:]:\n",
    "    full_names.append(line[1] + \" \" + line[2])\n",
    "output_file = open(\"full_names.csv\", mode=\"w\", newline = \"\")\n",
    "csv_writer = csv.writer(output_file, delimiter=\",\")\n",
    "csv_writer.writerow(['a', 'b', 'c'])\n",
    "csv_writer.writerows([[\"1\", \"2\", \"3\"], [\"4\", \"5\", \"6\"]])\n",
    "output_file.close()\n",
    "\n"
   ]
  },
  {
   "cell_type": "code",
   "execution_count": null,
   "id": "787db684",
   "metadata": {},
   "outputs": [],
   "source": []
  }
 ],
 "metadata": {
  "kernelspec": {
   "display_name": "Python 3",
   "language": "python",
   "name": "python3"
  },
  "language_info": {
   "codemirror_mode": {
    "name": "ipython",
    "version": 3
   },
   "file_extension": ".py",
   "mimetype": "text/x-python",
   "name": "python",
   "nbconvert_exporter": "python",
   "pygments_lexer": "ipython3",
   "version": "3.8.8"
  }
 },
 "nbformat": 4,
 "nbformat_minor": 5
}
