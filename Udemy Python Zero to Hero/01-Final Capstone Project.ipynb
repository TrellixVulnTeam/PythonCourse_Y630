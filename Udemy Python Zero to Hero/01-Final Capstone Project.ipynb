{
 "cells": [
  {
   "cell_type": "markdown",
   "metadata": {
    "collapsed": true
   },
   "source": [
    "# Final Capstone Projects\n",
    "\n",
    "Please refer to the [**Final Capstone Projects**](http://nbviewer.jupyter.org/github/jmportilla/Complete-Python-Bootcamp/tree/master/Final%20Capstone%20Projects/) folder to get all the info on final capstone project ideas and possible solutions!"
   ]
  },
  {
   "cell_type": "markdown",
   "metadata": {},
   "source": [
    "**Sorting** - Implement two types of sorting algorithms: Merge sort and bubble sort."
   ]
  },
  {
   "cell_type": "markdown",
   "metadata": {},
   "source": [
    "## Merge sort"
   ]
  },
  {
   "cell_type": "code",
   "execution_count": 23,
   "metadata": {},
   "outputs": [
    {
     "name": "stdout",
     "output_type": "stream",
     "text": [
      "[87, 70, 35, 97, 72, 15, 29, 99, 86, 43, 1, 85, 8, 30, 64, 22, 38, 24, 11, 50, 20, 41, 74, 62, 92, 75, 77, 82, 2, 51, 18, 81, 100, 61, 7, 78, 63, 79, 65, 76, 80, 58, 57, 42, 95, 14, 88, 6, 52, 53, 59, 94, 47, 32, 27, 39, 33, 46, 90, 13, 67, 84, 3, 28, 19, 12, 4, 54, 96, 26, 56, 69, 34, 83, 55, 5, 21, 37, 93, 66, 71, 16, 44, 45, 91, 10, 23, 68, 31, 60, 25, 9, 48, 49, 40, 73, 36, 0, 98, 89, 17]\n",
      "[0, 1, 2, 3, 4, 5, 6, 7, 8, 9, 10, 11, 12, 13, 14, 15, 16, 17, 18, 19, 20, 21, 22, 23, 24, 25, 26, 27, 28, 29, 30, 31, 32, 33, 34, 35, 36, 37, 38, 39, 40, 41, 42, 43, 44, 45, 46, 47, 48, 49, 50, 51, 52, 53, 54, 55, 56, 57, 58, 59, 60, 61, 62, 63, 64, 65, 66, 67, 68, 69, 70, 71, 72, 73, 74, 75, 76, 77, 78, 79, 80, 81, 82, 83, 84, 85, 86, 87, 88, 89, 90, 91, 92, 93, 94, 95, 96, 97, 98, 99, 100]\n"
     ]
    }
   ],
   "source": [
    "import random\n",
    "\n",
    "def merge_sort(main_list):\n",
    "    if len(main_list) > 1:\n",
    "        middle = len(main_list) // 2\n",
    "        left = main_list[:middle]\n",
    "        right = main_list[middle:]\n",
    "        merge_sort(left)\n",
    "        merge_sort(right)\n",
    "        merge_lists(main_list, left, right)\n",
    "        \n",
    "        \n",
    "def merge_lists(main_list, left, right):\n",
    "    l = 0\n",
    "    r = 0\n",
    "    b = 0\n",
    "    while l < len(left) and r < len(right):\n",
    "        if left[l] <= right[r]:\n",
    "            main_list[b] = left[l]\n",
    "            l += 1\n",
    "        else:\n",
    "            main_list[b] = right[r]\n",
    "            r += 1\n",
    "        b+=1\n",
    "    while l < len(left):\n",
    "        main_list[b] = left[l]\n",
    "        l += 1\n",
    "        b += 1\n",
    "\n",
    "    while r < len(right):\n",
    "        main_list[b]=right[r]\n",
    "        r += 1\n",
    "        b += 1\n",
    "        \n",
    "new_list = list(range(101))\n",
    "random.shuffle(new_list)\n",
    "print(new_list)        \n",
    "merge_sort(new_list)\n",
    "print(new_list)\n"
   ]
  },
  {
   "cell_type": "markdown",
   "metadata": {},
   "source": [
    "## Bubble sort"
   ]
  },
  {
   "cell_type": "code",
   "execution_count": 29,
   "metadata": {},
   "outputs": [
    {
     "name": "stdout",
     "output_type": "stream",
     "text": [
      "[3, 41, 90, 10, 21, 70, 67, 4, 91, 49, 61, 98, 83, 76, 92, 88, 28, 18, 68, 64, 96, 60, 62, 34, 55, 2, 17, 9, 32, 27, 35, 56, 79, 85, 7, 23, 53, 48, 39, 12, 89, 95, 65, 47, 94, 73, 93, 33, 11, 13, 84, 54, 40, 57, 29, 8, 24, 72, 37, 51, 31, 97, 5, 80, 71, 74, 16, 50, 0, 26, 43, 42, 25, 75, 22, 36, 66, 100, 38, 14, 19, 30, 46, 69, 15, 77, 99, 45, 87, 63, 44, 58, 86, 52, 6, 81, 82, 20, 59, 78, 1]\n",
      "[0, 1, 2, 3, 4, 5, 6, 7, 8, 9, 10, 11, 12, 13, 14, 15, 16, 17, 18, 19, 20, 21, 22, 23, 24, 25, 26, 27, 28, 29, 30, 31, 32, 33, 34, 35, 36, 37, 38, 39, 40, 41, 42, 43, 44, 45, 46, 47, 48, 49, 50, 51, 52, 53, 54, 55, 56, 57, 58, 59, 60, 61, 62, 63, 64, 65, 66, 67, 68, 69, 70, 71, 72, 73, 74, 75, 76, 77, 78, 79, 80, 81, 82, 83, 84, 85, 86, 87, 88, 89, 90, 91, 92, 93, 94, 95, 96, 97, 98, 99, 100]\n"
     ]
    }
   ],
   "source": [
    "import random\n",
    "\n",
    "def bubble_sort(main_list):\n",
    "    for j in range(len(main_list)):\n",
    "        for i in range(1, len(main_list)):\n",
    "            if main_list[i-1] > main_list[i]:\n",
    "                prev_element = main_list[i-1]\n",
    "                main_list[i-1] = main_list[i]\n",
    "                main_list[i] = prev_element\n",
    "                \n",
    "new_list = list(range(101))\n",
    "random.shuffle(new_list)\n",
    "print(new_list)        \n",
    "bubble_sort(new_list)\n",
    "print(new_list)\n",
    "last_element = 0"
   ]
  },
  {
   "cell_type": "code",
   "execution_count": null,
   "metadata": {},
   "outputs": [],
   "source": []
  }
 ],
 "metadata": {
  "kernelspec": {
   "display_name": "Python 3",
   "language": "python",
   "name": "python3"
  },
  "language_info": {
   "codemirror_mode": {
    "name": "ipython",
    "version": 3
   },
   "file_extension": ".py",
   "mimetype": "text/x-python",
   "name": "python",
   "nbconvert_exporter": "python",
   "pygments_lexer": "ipython3",
   "version": "3.8.8"
  }
 },
 "nbformat": 4,
 "nbformat_minor": 1
}
