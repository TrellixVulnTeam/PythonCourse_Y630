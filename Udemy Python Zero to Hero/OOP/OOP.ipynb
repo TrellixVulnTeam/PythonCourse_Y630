{
 "cells": [
  {
   "cell_type": "code",
   "execution_count": 61,
   "id": "29d58cf9",
   "metadata": {},
   "outputs": [],
   "source": [
    "class Dog():\n",
    "    #class object attribute, constant value\n",
    "    species = \"mammal\"\n",
    "    def __init__(self, breed, name, spots):\n",
    "        self.breed = breed\n",
    "        self.name = name\n",
    "        self.spots = spots\n",
    "    def bark(self):\n",
    "        print(\"{} barked\".format(self.name))"
   ]
  },
  {
   "cell_type": "code",
   "execution_count": 62,
   "id": "b593a98a",
   "metadata": {},
   "outputs": [],
   "source": [
    "huskey = Dog(breed = \"Huskey\", name = \"Milly\", spots = False)"
   ]
  },
  {
   "cell_type": "code",
   "execution_count": 63,
   "id": "f0d88c46",
   "metadata": {},
   "outputs": [
    {
     "data": {
      "text/plain": [
       "__main__.Dog"
      ]
     },
     "execution_count": 63,
     "metadata": {},
     "output_type": "execute_result"
    }
   ],
   "source": [
    "type(huskey)"
   ]
  },
  {
   "cell_type": "code",
   "execution_count": 64,
   "id": "719ba721",
   "metadata": {},
   "outputs": [
    {
     "data": {
      "text/plain": [
       "'Huskey'"
      ]
     },
     "execution_count": 64,
     "metadata": {},
     "output_type": "execute_result"
    }
   ],
   "source": [
    "huskey.breed"
   ]
  },
  {
   "cell_type": "code",
   "execution_count": 65,
   "id": "264bd8c6",
   "metadata": {},
   "outputs": [
    {
     "data": {
      "text/plain": [
       "'Milly'"
      ]
     },
     "execution_count": 65,
     "metadata": {},
     "output_type": "execute_result"
    }
   ],
   "source": [
    "huskey.name"
   ]
  },
  {
   "cell_type": "code",
   "execution_count": 66,
   "id": "40616339",
   "metadata": {},
   "outputs": [
    {
     "data": {
      "text/plain": [
       "False"
      ]
     },
     "execution_count": 66,
     "metadata": {},
     "output_type": "execute_result"
    }
   ],
   "source": [
    "huskey.spots"
   ]
  },
  {
   "cell_type": "code",
   "execution_count": 67,
   "id": "f4f9ebe9",
   "metadata": {},
   "outputs": [
    {
     "data": {
      "text/plain": [
       "'mammal'"
      ]
     },
     "execution_count": 67,
     "metadata": {},
     "output_type": "execute_result"
    }
   ],
   "source": [
    "huskey.species"
   ]
  },
  {
   "cell_type": "code",
   "execution_count": 68,
   "id": "21a00ebf",
   "metadata": {},
   "outputs": [
    {
     "name": "stdout",
     "output_type": "stream",
     "text": [
      "Milly barked\n"
     ]
    }
   ],
   "source": [
    "huskey.bark()"
   ]
  },
  {
   "cell_type": "code",
   "execution_count": null,
   "id": "32695b9e",
   "metadata": {},
   "outputs": [],
   "source": []
  }
 ],
 "metadata": {
  "kernelspec": {
   "display_name": "Python 3",
   "language": "python",
   "name": "python3"
  },
  "language_info": {
   "codemirror_mode": {
    "name": "ipython",
    "version": 3
   },
   "file_extension": ".py",
   "mimetype": "text/x-python",
   "name": "python",
   "nbconvert_exporter": "python",
   "pygments_lexer": "ipython3",
   "version": "3.8.8"
  }
 },
 "nbformat": 4,
 "nbformat_minor": 5
}
