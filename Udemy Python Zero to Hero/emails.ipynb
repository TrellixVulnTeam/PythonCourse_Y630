{
 "cells": [
  {
   "cell_type": "markdown",
   "id": "0eef9494",
   "metadata": {},
   "source": [
    "Sending emails"
   ]
  },
  {
   "cell_type": "code",
   "execution_count": null,
   "id": "2f5376a2",
   "metadata": {},
   "outputs": [],
   "source": [
    "import smtplib\n",
    "import getpass\n",
    "\n",
    "smtp_object = smtplib.SMTP(\"smtp.gmail.com\", 587)\n",
    "ehlo = smtp_object.ehlo()\n",
    "print(ehlo)\n",
    "tls = smtp_object.starttls()\n",
    "print(tls)\n",
    "email = getpass.getpass(\"Email: \")\n",
    "password = getpass.getpass(\"Password: \")\n",
    "smtp_object.login(email,password)"
   ]
  },
  {
   "cell_type": "code",
   "execution_count": null,
   "id": "f259f1b1",
   "metadata": {},
   "outputs": [],
   "source": [
    "from_address = email\n",
    "to_address = email\n",
    "subject = input(\"enter the subject line: \")\n",
    "message = input(\"enter the body message: \")\n",
    "msg = \"Subject: \" + subject + \"\\n\" + message\n",
    "\n",
    "smtp_object.sendmail(from_address, to_address, msg)"
   ]
  },
  {
   "cell_type": "code",
   "execution_count": null,
   "id": "b180db67",
   "metadata": {},
   "outputs": [],
   "source": [
    "smtp_object.quit()"
   ]
  },
  {
   "cell_type": "markdown",
   "id": "6d246a1a",
   "metadata": {},
   "source": [
    "Receiving emails"
   ]
  },
  {
   "cell_type": "code",
   "execution_count": null,
   "id": "3a59fb99",
   "metadata": {},
   "outputs": [],
   "source": [
    "import imaplib"
   ]
  },
  {
   "cell_type": "code",
   "execution_count": null,
   "id": "a69e504c",
   "metadata": {},
   "outputs": [],
   "source": [
    "M = imaplib.IMAP4_SSL(\"imap.gmail.com\")\n",
    "email = getpass.getpass(\"Email: \")\n",
    "password = getpass.getpass(\"Password: \")"
   ]
  },
  {
   "cell_type": "code",
   "execution_count": null,
   "id": "a43bfc35",
   "metadata": {},
   "outputs": [],
   "source": [
    "M.login(email,password)"
   ]
  },
  {
   "cell_type": "code",
   "execution_count": null,
   "id": "68defe4c",
   "metadata": {},
   "outputs": [],
   "source": [
    "M.list()"
   ]
  },
  {
   "cell_type": "code",
   "execution_count": null,
   "id": "404adb1b",
   "metadata": {},
   "outputs": [],
   "source": [
    "M.select(\"inbox\")"
   ]
  },
  {
   "cell_type": "code",
   "execution_count": null,
   "id": "bf6fc619",
   "metadata": {},
   "outputs": [],
   "source": [
    "typ, data = M.search(None, 'SUBJECT \"new_test python\"')"
   ]
  },
  {
   "cell_type": "code",
   "execution_count": null,
   "id": "1845ab66",
   "metadata": {},
   "outputs": [],
   "source": [
    "typ"
   ]
  },
  {
   "cell_type": "code",
   "execution_count": null,
   "id": "defbbc26",
   "metadata": {},
   "outputs": [],
   "source": [
    "email_id = data[0]\n",
    "result, email_data = M.fetch(email_id, '(RFC822)')"
   ]
  },
  {
   "cell_type": "code",
   "execution_count": null,
   "id": "e9f65356",
   "metadata": {},
   "outputs": [],
   "source": [
    "#email_data"
   ]
  },
  {
   "cell_type": "code",
   "execution_count": null,
   "id": "a9fb93c6",
   "metadata": {},
   "outputs": [],
   "source": [
    "raw_email = email_data[0][1]\n",
    "raw_email_string = raw_email.decode(\"utf-8\")"
   ]
  },
  {
   "cell_type": "code",
   "execution_count": null,
   "id": "64bdb603",
   "metadata": {},
   "outputs": [],
   "source": [
    "import email\n",
    "email_message = email.message_from_string(raw_email_string)\n",
    "\n",
    "for part in email_message.walk():\n",
    "    if part.get_content_type() == \"text/plain\":\n",
    "        body = part.get_payload(decode=True)\n",
    "        print(body)"
   ]
  },
  {
   "cell_type": "code",
   "execution_count": null,
   "id": "2c45787c",
   "metadata": {},
   "outputs": [],
   "source": []
  }
 ],
 "metadata": {
  "kernelspec": {
   "display_name": "Python 3",
   "language": "python",
   "name": "python3"
  },
  "language_info": {
   "codemirror_mode": {
    "name": "ipython",
    "version": 3
   },
   "file_extension": ".py",
   "mimetype": "text/x-python",
   "name": "python",
   "nbconvert_exporter": "python",
   "pygments_lexer": "ipython3",
   "version": "3.8.8"
  }
 },
 "nbformat": 4,
 "nbformat_minor": 5
}
